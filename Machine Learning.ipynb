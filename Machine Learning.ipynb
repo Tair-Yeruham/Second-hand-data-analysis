{
 "cells": [
  {
   "cell_type": "markdown",
   "id": "e2b1ceb5",
   "metadata": {},
   "source": [
    "# Machine Learning \n",
    "\n",
    "## Linear Regression"
   ]
  },
  {
   "cell_type": "code",
   "execution_count": 1,
   "id": "be65ae88",
   "metadata": {},
   "outputs": [],
   "source": [
    "import pandas as pd\n",
    "import numpy as np\n",
    "import matplotlib as mpl\n",
    "import matplotlib.pyplot as plt\n",
    "import seaborn as sns\n",
    "import os\n",
    "from collections import Counter\n",
    "%matplotlib inline\n",
    "\n",
    "import sklearn\n",
    "from sklearn import linear_model, metrics, preprocessing\n",
    "from sklearn.preprocessing import StandardScaler, MinMaxScaler\n",
    "from sklearn.linear_model import LinearRegression\n",
    "from sklearn.metrics import r2_score, f1_score\n",
    "from sklearn.preprocessing import LabelEncoder\n",
    "from sklearn.model_selection import train_test_split\n",
    "\n",
    "pd.options.mode.chained_assignment = None"
   ]
  },
  {
   "cell_type": "markdown",
   "id": "d20fb079",
   "metadata": {},
   "source": [
    "### replace to numeric method \n",
    "\n",
    "* This method replace the gearbox types to numeric values."
   ]
  },
  {
   "cell_type": "code",
   "execution_count": 2,
   "id": "de540b1f",
   "metadata": {},
   "outputs": [],
   "source": [
    "def replace_to_numeric(df):\n",
    "    \n",
    "    # replce the gearbox types to numric type\n",
    "    replace_gearbox = {'אוטומטית':1,'ידנית':2,'רובוטית':3,'טיפטרוניק':4,'DSG':5,'סטפטרוניק':6,'dualogic':7} \n",
    "    df = df.replace(replace_gearbox)\n",
    "    # replce the gearbox to int.\n",
    "    df['Gearbox'] = df['Gearbox'].astype(int)\n",
    "\n",
    "    return df"
   ]
  },
  {
   "cell_type": "markdown",
   "id": "1f5b1d75",
   "metadata": {},
   "source": [
    "### convert str to numeric method\n",
    "\n",
    "This method transform the string columns to numeric by used the label encoder."
   ]
  },
  {
   "cell_type": "code",
   "execution_count": 3,
   "id": "c45d1ca9",
   "metadata": {},
   "outputs": [],
   "source": [
    "def convert_str_to_numeric(df):\n",
    "\n",
    "    # replcing the string cols to numeric cols.\n",
    "    le = LabelEncoder()\n",
    "    df['Area'] = le.fit_transform(df['Area'])\n",
    "    df['Color'] = le.fit_transform(df['Color']) \n",
    "    df['manufacturer'] = le.fit_transform(df['manufacturer']) \n",
    "    df['type'] = le.fit_transform(df['type']) \n",
    "\n",
    "    return df"
   ]
  },
  {
   "cell_type": "markdown",
   "id": "a745bdab",
   "metadata": {},
   "source": [
    "#####  Starting the machine learning !\n",
    "* Here we called the big dataframe we created in the cleaning part.\n",
    "* We drop unnessery columns.\n",
    "* Called the replace to numeric method.\n",
    "* present the info of the dataframe which help us understand better the dataframe."
   ]
  },
  {
   "cell_type": "code",
   "execution_count": 4,
   "id": "d78831d5",
   "metadata": {},
   "outputs": [
    {
     "name": "stdout",
     "output_type": "stream",
     "text": [
      "<class 'pandas.core.frame.DataFrame'>\n",
      "RangeIndex: 5386 entries, 0 to 5385\n",
      "Data columns (total 10 columns):\n",
      " #   Column          Non-Null Count  Dtype  \n",
      "---  ------          --------------  -----  \n",
      " 0   price           5386 non-null   float64\n",
      " 1   Year            5386 non-null   float64\n",
      " 2   Hand            5386 non-null   float64\n",
      " 3   Kilometer       5386 non-null   float64\n",
      " 4   Area            5386 non-null   object \n",
      " 5   Gearbox         5386 non-null   int64  \n",
      " 6   Engine capcity  5386 non-null   float64\n",
      " 7   Color           5386 non-null   object \n",
      " 8   manufacturer    5386 non-null   object \n",
      " 9   type            5386 non-null   object \n",
      "dtypes: float64(5), int64(1), object(4)\n",
      "memory usage: 420.9+ KB\n"
     ]
    }
   ],
   "source": [
    "df = pd.read_csv('./all_cars.csv')\n",
    "df = replace_to_numeric(df)\n",
    "df.drop(['Unnamed: 0'], axis = 1,inplace = True)\n",
    "\n",
    "df.info()"
   ]
  },
  {
   "cell_type": "code",
   "execution_count": 5,
   "id": "0c381011",
   "metadata": {},
   "outputs": [
    {
     "data": {
      "text/html": [
       "<div>\n",
       "<style scoped>\n",
       "    .dataframe tbody tr th:only-of-type {\n",
       "        vertical-align: middle;\n",
       "    }\n",
       "\n",
       "    .dataframe tbody tr th {\n",
       "        vertical-align: top;\n",
       "    }\n",
       "\n",
       "    .dataframe thead th {\n",
       "        text-align: right;\n",
       "    }\n",
       "</style>\n",
       "<table border=\"1\" class=\"dataframe\">\n",
       "  <thead>\n",
       "    <tr style=\"text-align: right;\">\n",
       "      <th></th>\n",
       "      <th>price</th>\n",
       "      <th>Year</th>\n",
       "      <th>Hand</th>\n",
       "      <th>Kilometer</th>\n",
       "      <th>Area</th>\n",
       "      <th>Gearbox</th>\n",
       "      <th>Engine capcity</th>\n",
       "      <th>Color</th>\n",
       "      <th>manufacturer</th>\n",
       "      <th>type</th>\n",
       "    </tr>\n",
       "  </thead>\n",
       "  <tbody>\n",
       "    <tr>\n",
       "      <th>0</th>\n",
       "      <td>28000.0</td>\n",
       "      <td>2014.0</td>\n",
       "      <td>3.0</td>\n",
       "      <td>158000.0</td>\n",
       "      <td>פתח תקוה והסביבה</td>\n",
       "      <td>1</td>\n",
       "      <td>1000.0</td>\n",
       "      <td>שחור</td>\n",
       "      <td>יונדאי</td>\n",
       "      <td>i10</td>\n",
       "    </tr>\n",
       "    <tr>\n",
       "      <th>1</th>\n",
       "      <td>30000.0</td>\n",
       "      <td>2013.0</td>\n",
       "      <td>5.0</td>\n",
       "      <td>117000.0</td>\n",
       "      <td>מושבים בשפלה</td>\n",
       "      <td>1</td>\n",
       "      <td>1400.0</td>\n",
       "      <td>אפור</td>\n",
       "      <td>יונדאי</td>\n",
       "      <td>i20</td>\n",
       "    </tr>\n",
       "    <tr>\n",
       "      <th>2</th>\n",
       "      <td>33000.0</td>\n",
       "      <td>2011.0</td>\n",
       "      <td>3.0</td>\n",
       "      <td>105000.0</td>\n",
       "      <td>נס ציונה - רחובות</td>\n",
       "      <td>1</td>\n",
       "      <td>1560.0</td>\n",
       "      <td>אפור</td>\n",
       "      <td>יונדאי</td>\n",
       "      <td>i25</td>\n",
       "    </tr>\n",
       "    <tr>\n",
       "      <th>3</th>\n",
       "      <td>28000.0</td>\n",
       "      <td>2013.0</td>\n",
       "      <td>2.0</td>\n",
       "      <td>220000.0</td>\n",
       "      <td>פתח תקוה והסביבה</td>\n",
       "      <td>1</td>\n",
       "      <td>1590.0</td>\n",
       "      <td>כחול מטאלי</td>\n",
       "      <td>יונדאי</td>\n",
       "      <td>i30cw</td>\n",
       "    </tr>\n",
       "    <tr>\n",
       "      <th>4</th>\n",
       "      <td>21000.0</td>\n",
       "      <td>2010.0</td>\n",
       "      <td>3.0</td>\n",
       "      <td>167000.0</td>\n",
       "      <td>פתח תקוה והסביבה</td>\n",
       "      <td>1</td>\n",
       "      <td>1600.0</td>\n",
       "      <td>תכלת</td>\n",
       "      <td>יונדאי</td>\n",
       "      <td>i30cw</td>\n",
       "    </tr>\n",
       "    <tr>\n",
       "      <th>...</th>\n",
       "      <td>...</td>\n",
       "      <td>...</td>\n",
       "      <td>...</td>\n",
       "      <td>...</td>\n",
       "      <td>...</td>\n",
       "      <td>...</td>\n",
       "      <td>...</td>\n",
       "      <td>...</td>\n",
       "      <td>...</td>\n",
       "      <td>...</td>\n",
       "    </tr>\n",
       "    <tr>\n",
       "      <th>5381</th>\n",
       "      <td>45000.0</td>\n",
       "      <td>2009.0</td>\n",
       "      <td>2.0</td>\n",
       "      <td>2.0</td>\n",
       "      <td>ירושלים והסביבה</td>\n",
       "      <td>1</td>\n",
       "      <td>1598.0</td>\n",
       "      <td>שחור</td>\n",
       "      <td>מיני</td>\n",
       "      <td>קופר</td>\n",
       "    </tr>\n",
       "    <tr>\n",
       "      <th>5382</th>\n",
       "      <td>180000.0</td>\n",
       "      <td>2021.0</td>\n",
       "      <td>1.0</td>\n",
       "      <td>3000.0</td>\n",
       "      <td>מושבים בצפון</td>\n",
       "      <td>1</td>\n",
       "      <td>1499.0</td>\n",
       "      <td>אפור עכבר</td>\n",
       "      <td>מיני</td>\n",
       "      <td>קופר</td>\n",
       "    </tr>\n",
       "    <tr>\n",
       "      <th>5383</th>\n",
       "      <td>34000.0</td>\n",
       "      <td>2012.0</td>\n",
       "      <td>3.0</td>\n",
       "      <td>190000.0</td>\n",
       "      <td>מושבים במרכז</td>\n",
       "      <td>2</td>\n",
       "      <td>1598.0</td>\n",
       "      <td>קרם</td>\n",
       "      <td>מיני</td>\n",
       "      <td>ONE</td>\n",
       "    </tr>\n",
       "    <tr>\n",
       "      <th>5384</th>\n",
       "      <td>150000.0</td>\n",
       "      <td>2017.0</td>\n",
       "      <td>4.0</td>\n",
       "      <td>65000.0</td>\n",
       "      <td>פתח תקוה והסביבה</td>\n",
       "      <td>1</td>\n",
       "      <td>1998.0</td>\n",
       "      <td>כסוף</td>\n",
       "      <td>מיני</td>\n",
       "      <td>JCW</td>\n",
       "    </tr>\n",
       "    <tr>\n",
       "      <th>5385</th>\n",
       "      <td>45000.0</td>\n",
       "      <td>2012.0</td>\n",
       "      <td>2.0</td>\n",
       "      <td>98000.0</td>\n",
       "      <td>תל אביב</td>\n",
       "      <td>1</td>\n",
       "      <td>1598.0</td>\n",
       "      <td>כתום</td>\n",
       "      <td>מיני</td>\n",
       "      <td>ONE</td>\n",
       "    </tr>\n",
       "  </tbody>\n",
       "</table>\n",
       "<p>5386 rows × 10 columns</p>\n",
       "</div>"
      ],
      "text/plain": [
       "         price    Year  Hand  Kilometer                Area  Gearbox  \\\n",
       "0      28000.0  2014.0   3.0   158000.0    פתח תקוה והסביבה        1   \n",
       "1      30000.0  2013.0   5.0   117000.0        מושבים בשפלה        1   \n",
       "2      33000.0  2011.0   3.0   105000.0   נס ציונה - רחובות        1   \n",
       "3      28000.0  2013.0   2.0   220000.0    פתח תקוה והסביבה        1   \n",
       "4      21000.0  2010.0   3.0   167000.0    פתח תקוה והסביבה        1   \n",
       "...        ...     ...   ...        ...                 ...      ...   \n",
       "5381   45000.0  2009.0   2.0        2.0     ירושלים והסביבה        1   \n",
       "5382  180000.0  2021.0   1.0     3000.0        מושבים בצפון        1   \n",
       "5383   34000.0  2012.0   3.0   190000.0        מושבים במרכז        2   \n",
       "5384  150000.0  2017.0   4.0    65000.0    פתח תקוה והסביבה        1   \n",
       "5385   45000.0  2012.0   2.0    98000.0             תל אביב        1   \n",
       "\n",
       "      Engine capcity                    Color manufacturer    type  \n",
       "0             1000.0                     שחור       יונדאי     i10  \n",
       "1             1400.0                     אפור       יונדאי     i20  \n",
       "2             1560.0                     אפור       יונדאי     i25  \n",
       "3             1590.0               כחול מטאלי       יונדאי   i30cw  \n",
       "4             1600.0                     תכלת       יונדאי   i30cw  \n",
       "...              ...                      ...          ...     ...  \n",
       "5381          1598.0                     שחור         מיני    קופר  \n",
       "5382          1499.0                אפור עכבר         מיני    קופר  \n",
       "5383          1598.0                      קרם         מיני     ONE  \n",
       "5384          1998.0                     כסוף         מיני     JCW  \n",
       "5385          1598.0                     כתום         מיני     ONE  \n",
       "\n",
       "[5386 rows x 10 columns]"
      ]
     },
     "execution_count": 5,
     "metadata": {},
     "output_type": "execute_result"
    }
   ],
   "source": [
    "df"
   ]
  },
  {
   "cell_type": "markdown",
   "id": "f8f032b2",
   "metadata": {},
   "source": [
    "Here we split the data frame into 2 data frames by target column to predict and the rest of the table."
   ]
  },
  {
   "cell_type": "code",
   "execution_count": 6,
   "id": "09c29767",
   "metadata": {},
   "outputs": [],
   "source": [
    "def target_column_to_split(df, target_column):\n",
    "    \n",
    "    TRAINING_FEATURES = df.columns[df.columns != target_column]\n",
    "    TARGET_FEATURE = target_column\n",
    "\n",
    "    X = df[TRAINING_FEATURES]\n",
    "    y = df[TARGET_FEATURE]\n",
    "    \n",
    "    return X,y"
   ]
  },
  {
   "cell_type": "markdown",
   "id": "b4e23822",
   "metadata": {},
   "source": [
    "Here we called the train test split method. We set the test size to 0.2 to optimal result for our data."
   ]
  },
  {
   "cell_type": "code",
   "execution_count": 2,
   "id": "36b2a50a",
   "metadata": {},
   "outputs": [],
   "source": [
    "def train(X,y):\n",
    "\n",
    "    x_train, x_test, y_train, y_test = train_test_split(X, y, test_size = 0.2,random_state= 1)\n",
    "                       \n",
    "    return x_train, x_test, y_train, y_test"
   ]
  },
  {
   "cell_type": "markdown",
   "id": "688572e4",
   "metadata": {},
   "source": [
    "Here we train the dataframe with linearRegression model by calling the method fit."
   ]
  },
  {
   "cell_type": "code",
   "execution_count": 8,
   "id": "bbdfc15e",
   "metadata": {},
   "outputs": [],
   "source": [
    "def train_regression_model(X_train, y_train):\n",
    "    \n",
    "    linear_regression = LinearRegression()\n",
    "    linear_regression.fit(X_train, y_train)\n",
    "        \n",
    "    return linear_regression"
   ]
  },
  {
   "cell_type": "markdown",
   "id": "c1d5bb7a",
   "metadata": {},
   "source": [
    "Here we test our forecasting capabilities"
   ]
  },
  {
   "cell_type": "code",
   "execution_count": 3,
   "id": "57b4455f",
   "metadata": {},
   "outputs": [],
   "source": [
    "def predict_regression(regressor, X_test):\n",
    "\n",
    "    y_pred = regressor.predict(X_test)\n",
    "    \n",
    "    return y_pred"
   ]
  },
  {
   "cell_type": "markdown",
   "id": "5de61bf0",
   "metadata": {},
   "source": [
    "Here we rank our predictability according to r2_score"
   ]
  },
  {
   "cell_type": "code",
   "execution_count": 10,
   "id": "626887f0",
   "metadata": {},
   "outputs": [],
   "source": [
    "def evaluate_performance(y_test,y_predicted):\n",
    "    \n",
    "    evaluate_value = r2_score(y_test,y_predicted)\n",
    "    \n",
    "    return evaluate_value  "
   ]
  },
  {
   "cell_type": "markdown",
   "id": "de2cd93d",
   "metadata": {},
   "source": [
    "# Car model - price\n",
    "\n",
    "building the price prediction model with linear regression."
   ]
  },
  {
   "cell_type": "code",
   "execution_count": 11,
   "id": "b7ab5f3e",
   "metadata": {},
   "outputs": [
    {
     "name": "stdout",
     "output_type": "stream",
     "text": [
      "0.6430708509773704\n"
     ]
    }
   ],
   "source": [
    "dfCopy = df.copy()\n",
    "dfCopy.drop(['Area','Color','manufacturer','type'], axis = 1,inplace = True)\n",
    "\n",
    "target_column = 'price'\n",
    "X,y = target_column_to_split(dfCopy,target_column)\n",
    "\n",
    "x_train, x_test, y_train, y_test = train(X,y)\n",
    "\n",
    "price_model = train_regression_model(x_train,y_train)\n",
    "\n",
    "y_pred = predict_regression(price_model,x_test)\n",
    "\n",
    "evaluate = evaluate_performance(y_test,y_pred)\n",
    "print(evaluate)"
   ]
  },
  {
   "cell_type": "code",
   "execution_count": 12,
   "id": "79319182",
   "metadata": {},
   "outputs": [
    {
     "name": "stdout",
     "output_type": "stream",
     "text": [
      "evaluate = 0.6430708509773704\n"
     ]
    },
    {
     "data": {
      "image/png": "[encoded data removed]",
      "text/plain": [
       "<Figure size 432x288 with 1 Axes>"
      ]
     },
     "metadata": {
      "needs_background": "light"
     },
     "output_type": "display_data"
    }
   ],
   "source": [
    "print(\"evaluate =\",evaluate)\n",
    "plt.scatter(y_test, y_pred, color='black')\n",
    "plt.plot(y_test, y_test, color='red', linewidth=2)\n",
    "plt.title('Linear regression on cars price data set')\n",
    "plt.xlabel('Real values')\n",
    "plt.ylabel('Prediction')\n",
    "plt.show()"
   ]
  },
  {
   "cell_type": "markdown",
   "id": "b87bd96f",
   "metadata": {},
   "source": [
    "# Improving the car model - price \n",
    "\n",
    "We were not satisfied with our forecast results so we decided to improve the forecast results.\n",
    "* We convert all string columns to libraries.\n",
    "* We multiply columns whose correlation is the best."
   ]
  },
  {
   "cell_type": "code",
   "execution_count": 13,
   "id": "51e54b6a",
   "metadata": {},
   "outputs": [],
   "source": [
    "dfCopy = df.copy()\n",
    "dfCopy = convert_str_to_numeric(dfCopy)\n",
    "dfCopy['year * kilometer'] = dfCopy['Year'] * dfCopy['Kilometer']\n",
    "dfCopy['year * Hand'] = dfCopy['Year'] * dfCopy['Hand']\n",
    "dfCopy['year * Engine capcity'] = dfCopy['Year'] * dfCopy['Engine capcity']\n"
   ]
  },
  {
   "cell_type": "code",
   "execution_count": 14,
   "id": "d471510e",
   "metadata": {},
   "outputs": [
    {
     "name": "stdout",
     "output_type": "stream",
     "text": [
      "0.7304321138360714\n"
     ]
    }
   ],
   "source": [
    "target_column = 'price'\n",
    "X,y = target_column_to_split(dfCopy,target_column)\n",
    "\n",
    "x_train, x_test, y_train, y_test = train(X,y)\n",
    "\n",
    "price_model = train_regression_model(x_train,y_train)\n",
    "\n",
    "y_pred = predict_regression(price_model,x_test)\n",
    "\n",
    "evaluate = evaluate_performance(y_test,y_pred)\n",
    "print(evaluate)"
   ]
  },
  {
   "cell_type": "code",
   "execution_count": 15,
   "id": "b50977fa",
   "metadata": {},
   "outputs": [
    {
     "name": "stdout",
     "output_type": "stream",
     "text": [
      "evaluate = 0.7304321138360714\n"
     ]
    },
    {
     "data": {
      "image/png": "[encoded data removed]",
      "text/plain": [
       "<Figure size 432x288 with 1 Axes>"
      ]
     },
     "metadata": {
      "needs_background": "light"
     },
     "output_type": "display_data"
    }
   ],
   "source": [
    "print(\"evaluate =\",evaluate)\n",
    "plt.scatter(y_test, y_pred, color='black')\n",
    "plt.plot(y_test, y_test, color='red', linewidth=2)\n",
    "plt.title('Linear regression on cars price data set')\n",
    "plt.xlabel('Real values')\n",
    "plt.ylabel('Prediction')\n",
    "plt.show()"
   ]
  },
  {
   "cell_type": "markdown",
   "id": "aa8e39e1",
   "metadata": {},
   "source": [
    "# Car model - year \n",
    "\n",
    "building the year prediction model with linear regression."
   ]
  },
  {
   "cell_type": "code",
   "execution_count": 16,
   "id": "a7a23a49",
   "metadata": {},
   "outputs": [
    {
     "name": "stdout",
     "output_type": "stream",
     "text": [
      "0.6723091618308419\n"
     ]
    }
   ],
   "source": [
    "dfCopy = df.copy()\n",
    "dfCopy.drop(['Area','Color','manufacturer','type'], axis = 1,inplace = True)\n",
    "\n",
    "target_column = 'Year'\n",
    "X,y = target_column_to_split(dfCopy,target_column)\n",
    "\n",
    "x_train, x_test, y_train, y_test = train(X,y)\n",
    "\n",
    "year_model = train_regression_model(x_train,y_train)\n",
    "\n",
    "y_pred = predict_regression(year_model,x_test)\n",
    "\n",
    "evaluate = evaluate_performance(y_test,y_pred)\n",
    "\n",
    "print(evaluate)"
   ]
  },
  {
   "cell_type": "code",
   "execution_count": 17,
   "id": "d80a064c",
   "metadata": {},
   "outputs": [
    {
     "name": "stdout",
     "output_type": "stream",
     "text": [
      "evaluate = 0.6723091618308419\n"
     ]
    },
    {
     "data": {
      "image/png": "[encoded data removed]",
      "text/plain": [
       "<Figure size 432x288 with 1 Axes>"
      ]
     },
     "metadata": {
      "needs_background": "light"
     },
     "output_type": "display_data"
    }
   ],
   "source": [
    "print(\"evaluate =\",evaluate)\n",
    "plt.scatter(y_test, y_pred, color='black')\n",
    "plt.plot(y_test, y_test, color='red', linewidth=2)\n",
    "plt.title('Linear regression on cars year data set')\n",
    "plt.xlabel('Real values')\n",
    "plt.ylabel('Prediction')\n",
    "plt.show()"
   ]
  },
  {
   "cell_type": "markdown",
   "id": "bc27a0af",
   "metadata": {},
   "source": [
    "# Improving the car model - year\n",
    "\n",
    "We were not satisfied with our forecast results so we decided to improve the forecast results.\n",
    "\n",
    "* We convert all string columns to libraries.\n",
    "* We multiply columns whose correlation is the best."
   ]
  },
  {
   "cell_type": "code",
   "execution_count": 18,
   "id": "eacc9ef1",
   "metadata": {},
   "outputs": [],
   "source": [
    "dfCopy = df.copy()\n",
    "dfCopy = convert_str_to_numeric(dfCopy)\n",
    "dfCopy['price * kilometer'] = dfCopy['price'] * dfCopy['Kilometer']\n",
    "dfCopy['Kilometer * Engine capcity'] = dfCopy['Kilometer'] * dfCopy['Engine capcity']"
   ]
  },
  {
   "cell_type": "code",
   "execution_count": 19,
   "id": "cab28ac0",
   "metadata": {},
   "outputs": [
    {
     "name": "stdout",
     "output_type": "stream",
     "text": [
      "0.71832972723348\n"
     ]
    }
   ],
   "source": [
    "target_column = 'Year'\n",
    "X,y = target_column_to_split(dfCopy,target_column)\n",
    "\n",
    "x_train, x_test, y_train, y_test = train(X,y)\n",
    "\n",
    "year_model = train_regression_model(x_train,y_train)\n",
    "\n",
    "y_pred = predict_regression(year_model,x_test)\n",
    "\n",
    "evaluate = evaluate_performance(y_test,y_pred)\n",
    "print(evaluate)"
   ]
  },
  {
   "cell_type": "code",
   "execution_count": 20,
   "id": "da7b294e",
   "metadata": {},
   "outputs": [
    {
     "name": "stdout",
     "output_type": "stream",
     "text": [
      "evaluate = 0.71832972723348\n"
     ]
    },
    {
     "data": {
      "image/png": "[encoded data removed]",
      "text/plain": [
       "<Figure size 432x288 with 1 Axes>"
      ]
     },
     "metadata": {
      "needs_background": "light"
     },
     "output_type": "display_data"
    }
   ],
   "source": [
    "print(\"evaluate =\",evaluate)\n",
    "plt.scatter(y_test, y_pred, color='black')\n",
    "plt.plot(y_test, y_test, color='red', linewidth=2)\n",
    "plt.title('Linear regression on cars year data set')\n",
    "plt.xlabel('Real values')\n",
    "plt.ylabel('Prediction')\n",
    "plt.show()"
   ]
  },
  {
   "cell_type": "markdown",
   "id": "ad98fcaf",
   "metadata": {},
   "source": [
    "# Predicting the impairment of the vehicle I purchased\n",
    "\n",
    "* In this section we anticipate the impairment of the vehicle I purchased.\n",
    "    * We let the user enter the price he bought the car and enter more information we need.\n",
    "    * Then predict the depreciation of the vehicle."
   ]
  },
  {
   "cell_type": "code",
   "execution_count": 21,
   "id": "714ac697",
   "metadata": {},
   "outputs": [],
   "source": [
    "def convert_user_input(df):\n",
    "    \n",
    "    df = replace_to_numeric(df)\n",
    "    df = convert_str_to_numeric(df)\n",
    "    df['Gearbox'] = df['Gearbox'].astype(int)\n",
    "    df['Year'] = df['Year'].astype(int) \n",
    "    df['Hand'] = df['Hand'].astype(int)  \n",
    "    df['Kilometer'] = df['Kilometer'].astype(int)  \n",
    "    df['Engine capcity'] = df['Engine capcity'].astype(int)  \n",
    "    df['year * kilometer'] = df['Year'] * df['Kilometer']\n",
    "    df['year * Hand'] = df['Year'] * df['Hand']\n",
    "    df['year * Engine capcity'] = df['Year'] * df['Engine capcity']\n",
    "    \n",
    "    return df"
   ]
  },
  {
   "cell_type": "code",
   "execution_count": 22,
   "id": "81c6c6ca",
   "metadata": {},
   "outputs": [],
   "source": [
    "def Details_of_impairment(model):\n",
    "\n",
    "    print('Enter the price you bought the vehicle:')\n",
    "    current_price = input()\n",
    "    print('Enter your vehicle year of manufacture:')\n",
    "    year = input()\n",
    "    print('Enter your vehicle hand:')\n",
    "    hand = input()\n",
    "    print('Enter the mileage that the vehicle travel:')\n",
    "    kilometer = input()\n",
    "    print('Enter your living area:')\n",
    "    area = input()\n",
    "    print('Enter your vehicle gearbox:')\n",
    "    gearbox = input()\n",
    "    print('Enter your vehicle engine capcity:')\n",
    "    engine_capcity = input()\n",
    "    print('Enter your vehicle color:')\n",
    "    color = input()\n",
    "    print('Enter your vehicle manufacturer:')\n",
    "    manufacturer = input()\n",
    "    print('Enter your vehicle type:')\n",
    "    car_type = input()\n",
    "\n",
    "    \n",
    "    df_user = pd.DataFrame({\"Year\":year,\n",
    "                       \"Hand\":hand,\n",
    "                       \"Kilometer\":kilometer,\n",
    "                       \"Area\":area,\n",
    "                       \"Gearbox\":gearbox,\n",
    "                       \"Engine capcity\":engine_capcity,\n",
    "                       \"Color\":color,\n",
    "                       \"manufacturer\":manufacturer,\n",
    "                       \"type\":car_type},index=[0])\n",
    "\n",
    "    df_user = convert_user_input(df_user)\n",
    "    \n",
    "    y_pred = predict_regression(model,df_user)  \n",
    "    current_price = int(current_price)\n",
    "    y_pred = int(y_pred)\n",
    "    print()\n",
    "    print(\"The impairment of your vehicle will be: \",current_price - y_pred)"
   ]
  },
  {
   "cell_type": "code",
   "execution_count": 23,
   "id": "bb2b5193",
   "metadata": {},
   "outputs": [
    {
     "name": "stdout",
     "output_type": "stream",
     "text": [
      "Enter the price you bought the vehicle:\n",
      "35000\n",
      "Enter your vehicle year of manufacture:\n",
      "2014\n",
      "Enter your vehicle hand:\n",
      "3\n",
      "Enter the mileage that the vehicle travel:\n",
      "158000\n",
      "Enter your living area:\n",
      "פתח תקוה והסביבה\n",
      "Enter your vehicle gearbox:\n",
      "אוטומטית\n",
      "Enter your vehicle engine capcity:\n",
      "1000\n",
      "Enter your vehicle color:\n",
      "שחור\n",
      "Enter your vehicle manufacturer:\n",
      "יונדאי\n",
      "Enter your vehicle type:\n",
      "i10\n",
      "\n",
      "The impairment of your vehicle will be:  9394\n"
     ]
    }
   ],
   "source": [
    "Details_of_impairment(price_model)"
   ]
  }
 ],
 "metadata": {
  "kernelspec": {
   "display_name": "Python 3",
   "language": "python",
   "name": "python3"
  },
  "language_info": {
   "codemirror_mode": {
    "name": "ipython",
    "version": 3
   },
   "file_extension": ".py",
   "mimetype": "text/x-python",
   "name": "python",
   "nbconvert_exporter": "python",
   "pygments_lexer": "ipython3",
   "version": "3.8.8"
  }
 },
 "nbformat": 4,
 "nbformat_minor": 5
}
